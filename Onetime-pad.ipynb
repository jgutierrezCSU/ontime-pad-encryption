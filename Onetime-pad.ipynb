{
 "cells": [
  {
   "cell_type": "code",
   "execution_count": null,
   "metadata": {},
   "outputs": [],
   "source": [
    "import os\n",
    "import sys\n",
    "\n",
    "def XOR(A,B):\n",
    "    ir=int(A,2)\n",
    "    ik=int(B,2)\n",
    "    emb=ir^ik\n",
    "    return emb\n",
    "\n",
    "def encode(X):\n",
    "    Y=str()\n",
    "    for x in X:\n",
    "        Y=Y+str(format(ord(x),'08b'))\n",
    "    return Y\n",
    "\n",
    "\n",
    "def my_rand_int(k):    \n",
    "    b = os.urandom(k) #using os.urandom\n",
    "    bits = ''\n",
    "    c= 0\n",
    "    for i in bytearray(b):\n",
    "        byte = bin(i)[2:]\n",
    "        byte_size=len(byte)\n",
    "        #byte less than 8\n",
    "        if  byte_size < 8:\n",
    "            tmp = ''\n",
    "            #get difference and append\n",
    "            for j in range(8 - len(byte)): \n",
    "                tmp += '0'\n",
    "            byte = tmp + byte\n",
    "        bits += byte\n",
    "    return bits\n",
    "\n",
    "\n",
    "#step 1 encode:\n",
    "plain_text='Hi!'\n",
    "enc_pt=encode(plain_text)\n",
    "\n",
    "#step 2\n",
    "key=my_rand_int(len(plain_text))\n",
    "\n",
    "\n",
    "#Step 3 Encrypt\n",
    "emb=XOR(enc_pt,key)\n",
    "res=format(emb,'0' + str(len(enc_pt))+'b')\n",
    "print(\"PT:\",enc_pt)\n",
    "print(\"KEY:\",key)\n",
    "print(\"CIPH:\",res)\n",
    "\n",
    "\n",
    "PT: 010010000110100100100001\n",
    "KEY: 000001100001101111101101\n",
    "CIPH: 010011100111001011001100"
   ]
  }
 ],
 "metadata": {
  "kernelspec": {
   "display_name": "SageMath 9.0",
   "language": "sage",
   "name": "sagemath"
  },
  "language_info": {
   "codemirror_mode": {
    "name": "ipython",
    "version": 3
   },
   "file_extension": ".py",
   "mimetype": "text/x-python",
   "name": "python",
   "nbconvert_exporter": "python",
   "pygments_lexer": "ipython3",
   "version": "3.7.3"
  }
 },
 "nbformat": 4,
 "nbformat_minor": 2
}
